{
 "cells": [
  {
   "cell_type": "code",
   "execution_count": 1,
   "id": "0d101a55",
   "metadata": {},
   "outputs": [],
   "source": [
    "def BMA(bmi_value):\n",
    "    \n",
    "    height=bmi_value.HeightCm/100\n",
    "    bmi_value['Body_Mass_Idx']=bmi_value.WeightKg/(height*height)\n",
    "    \n",
    "    conditions=[(bmi_value['Body_Mass_Idx']<=18.4),(bmi_value.Body_Mass_Idx>=18.4) & (bmi_value.Body_Mass_Idx<=24.9),\n",
    "                (bmi_value.Body_Mass_Idx>=25) & (bmi_value.Body_Mass_Idx<=29.9 ),(bmi_value.Body_Mass_Idx>=30) & (bmi_value.Body_Mass_Idx<=34.9 ),\n",
    "                 (bmi_value.Body_Mass_Idx>=35) & (bmi_value.Body_Mass_Idx<=39.9 ),(bmi_value.Body_Mass_Idx>=40)]\n",
    "    values=['Underweight','Normal weight','Overweight','Moderately Obese','Severly Obese','Very Severly Obese']\n",
    "    \n",
    "    values1=['Malnutrition Risk','Low Risk','Enhanced Risk','Medium Risk','High Risk','Very High Risk']\n",
    "    \n",
    "    bmi_value['BMI_Category']=np.select(conditions,values)\n",
    "    bmi_value['Health_Risk']=np.select(conditions,values1)\n",
    "\n",
    "def Count_Overweight(df):\n",
    "    count_people=df[df['BMI_Category']=='Overweight']\n",
    "    a=count_people['BMI_Category'].value_counts()\n",
    "    return a[0]\n",
    "    "
   ]
  },
  {
   "cell_type": "code",
   "execution_count": 2,
   "id": "a99607bc",
   "metadata": {},
   "outputs": [
    {
     "name": "stdout",
     "output_type": "stream",
     "text": [
      "Data with Added features:\n",
      "    Gender  HeightCm  WeightKg  Body_Mass_Idx      BMI_Category  Health_Risk\n",
      "0    Male       171        96      32.830615  Moderately Obese  Medium Risk\n",
      "1    Male       161        85      32.791945  Moderately Obese  Medium Risk\n",
      "2    Male       180        77      23.765432     Normal weight     Low Risk\n",
      "3  Female       166        62      22.499637     Normal weight     Low Risk\n",
      "4  Female       150        70      31.111111  Moderately Obese  Medium Risk\n",
      "Total overweight people are: 1\n"
     ]
    }
   ],
   "source": [
    "import pandas as pd\n",
    "import numpy as np\n",
    "Data=pd.read_json('input.json',orient='str')\n",
    "\n",
    "BMA(Data)\n",
    "print('Data with Added features:\\n',Data.head())\n",
    "print('Total overweight people are:',Count_Overweight(Data))"
   ]
  },
  {
   "cell_type": "code",
   "execution_count": null,
   "id": "a5d0b0dc",
   "metadata": {},
   "outputs": [],
   "source": []
  }
 ],
 "metadata": {
  "kernelspec": {
   "display_name": "Python 3",
   "language": "python",
   "name": "python3"
  },
  "language_info": {
   "codemirror_mode": {
    "name": "ipython",
    "version": 3
   },
   "file_extension": ".py",
   "mimetype": "text/x-python",
   "name": "python",
   "nbconvert_exporter": "python",
   "pygments_lexer": "ipython3",
   "version": "3.8.8"
  }
 },
 "nbformat": 4,
 "nbformat_minor": 5
}
